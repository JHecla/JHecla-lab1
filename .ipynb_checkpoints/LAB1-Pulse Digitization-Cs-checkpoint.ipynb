{
 "cells": [
  {
   "cell_type": "code",
   "execution_count": 2,
   "metadata": {},
   "outputs": [
    {
     "name": "stderr",
     "output_type": "stream",
     "text": [
      "/home/jake/anaconda3/lib/python3.6/site-packages/h5py/__init__.py:36: FutureWarning: Conversion of the second argument of issubdtype from `float` to `np.floating` is deprecated. In future, it will be treated as `np.float64 == np.dtype(float).type`.\n",
      "  from ._conv import register_converters as _register_converters\n"
     ]
    }
   ],
   "source": [
    "import numpy as np\n",
    "import h5py\n",
    "from scipy.optimize import curve_fit\n",
    "import matplotlib.pyplot as plt\n",
    "#Lab 0 \n",
    "#generate a synthetic pulse\n",
    "A = 1\n",
    "trise = 50e-9\n",
    "tfall = 50e-6\n",
    "tpulse = 100e-6\n",
    "tstart = 0\n",
    "tend = 500e-6\n",
    "nsamples = 1e5\n",
    "spc = (tend-tstart)/nsamples\n",
    "synsamples = np.arange(tstart, tend,spc)\n",
    "out = np.zeros((np.shape(synsamples)[0],2))\n",
    "\n",
    "for i in range(0,np.shape(synsamples)[0]):\n",
    "    if synsamples[i]>tstart:\n",
    "        out[i] = synsamples[i]\n",
    "    \n",
    "    "
   ]
  },
  {
   "cell_type": "code",
   "execution_count": 3,
   "metadata": {},
   "outputs": [],
   "source": [
    "pulsedata = h5py.File('/home/jake/Documents/DATA_cs.h5', 'r')\n",
    "#pulsedata['EventData']\n",
    "#Digitized signal traces\n",
    "data = pulsedata['RawData']\n",
    "d1 = np.zeros(np.shape(data))\n",
    "for n in range(0,data.shape[0]):\n",
    "    d1[n,:] = data[n]\n",
    "\n",
    "#Define gaussian function\n",
    "def gaus(x, a, b, c):\n",
    "    return a * np.exp(-(x-b)**2/(2*c**2))"
   ]
  },
  {
   "cell_type": "code",
   "execution_count": 4,
   "metadata": {},
   "outputs": [
    {
     "data": {
      "image/png": "[encoded data removed]",
      "text/plain": [
       "<matplotlib.figure.Figure at 0x7f3fcbee8898>"
      ]
     },
     "metadata": {},
     "output_type": "display_data"
    }
   ],
   "source": [
    "#Plot some data to get a feel for it\n",
    "fig, ax = plt.subplots()\n",
    "for l in range(0,100):\n",
    "    ax.plot(d1[l,:])\n",
    "\n",
    "\n",
    "#generate some fake data to see how well the fit works\n",
    "A = 1700;\n",
    "mu = 1/5500;\n",
    "x = np.arange(0,15000,1)\n",
    "dtime = 1000;\n",
    "zero = 31350\n",
    "delay = dtime*np.ones_like(x);\n",
    "y = A*np.exp(-mu*(x-delay)) + zero*np.ones_like(x)\n",
    "for n in range (0,x.shape[0]):\n",
    "    if(x[n] < dtime):\n",
    "        y[n] = zero\n",
    "        \n",
    "#Plot fake data over real\n",
    "#ax.plot(y)\n",
    "#plt.show()\n"
   ]
  },
  {
   "cell_type": "code",
   "execution_count": 1,
   "metadata": {},
   "outputs": [
    {
     "ename": "NameError",
     "evalue": "name 'np' is not defined",
     "output_type": "error",
     "traceback": [
      "\u001b[0;31m---------------------------------------------------------------------------\u001b[0m",
      "\u001b[0;31mNameError\u001b[0m                                 Traceback (most recent call last)",
      "\u001b[0;32m<ipython-input-1-d7ad44c51561>\u001b[0m in \u001b[0;36m<module>\u001b[0;34m()\u001b[0m\n\u001b[0;32m----> 1\u001b[0;31m \u001b[0mhts3\u001b[0m \u001b[0;34m=\u001b[0m \u001b[0mnp\u001b[0m\u001b[0;34m.\u001b[0m\u001b[0mmax\u001b[0m\u001b[0;34m(\u001b[0m\u001b[0ms3\u001b[0m\u001b[0;34m,\u001b[0m \u001b[0maxis\u001b[0m\u001b[0;34m=\u001b[0m\u001b[0;36m1\u001b[0m\u001b[0;34m)\u001b[0m\u001b[0;34m\u001b[0m\u001b[0m\n\u001b[0m\u001b[1;32m      2\u001b[0m \u001b[0mn3\u001b[0m\u001b[0;34m,\u001b[0m \u001b[0medges3\u001b[0m \u001b[0;34m=\u001b[0m \u001b[0mnp\u001b[0m\u001b[0;34m.\u001b[0m\u001b[0mhistogram\u001b[0m\u001b[0;34m(\u001b[0m\u001b[0mhts3\u001b[0m\u001b[0;34m,\u001b[0m \u001b[0mbins\u001b[0m\u001b[0;34m=\u001b[0m\u001b[0;36m400\u001b[0m\u001b[0;34m,\u001b[0m \u001b[0mrange\u001b[0m \u001b[0;34m=\u001b[0m \u001b[0;34m(\u001b[0m\u001b[0;36m0\u001b[0m\u001b[0;34m,\u001b[0m\u001b[0;36m.01\u001b[0m\u001b[0;34m*\u001b[0m\u001b[0mnp\u001b[0m\u001b[0;34m.\u001b[0m\u001b[0mmax\u001b[0m\u001b[0;34m(\u001b[0m\u001b[0mhts\u001b[0m\u001b[0;34m)\u001b[0m\u001b[0;34m)\u001b[0m\u001b[0;34m)\u001b[0m\u001b[0;34m\u001b[0m\u001b[0m\n\u001b[1;32m      3\u001b[0m     \u001b[0;31m#Find first nonzero element, set as first channel to read --highly optional\u001b[0m\u001b[0;34m\u001b[0m\u001b[0;34m\u001b[0m\u001b[0m\n\u001b[1;32m      4\u001b[0m \u001b[0mnz\u001b[0m \u001b[0;34m=\u001b[0m \u001b[0mnp\u001b[0m\u001b[0;34m.\u001b[0m\u001b[0mnonzero\u001b[0m\u001b[0;34m(\u001b[0m\u001b[0mn\u001b[0m\u001b[0;34m)\u001b[0m\u001b[0;34m\u001b[0m\u001b[0m\n\u001b[1;32m      5\u001b[0m \u001b[0mbins\u001b[0m \u001b[0;34m=\u001b[0m \u001b[0medges3\u001b[0m\u001b[0;34m[\u001b[0m\u001b[0;36m1\u001b[0m\u001b[0;34m:\u001b[0m\u001b[0;34m]\u001b[0m\u001b[0;34m\u001b[0m\u001b[0m\n",
      "\u001b[0;31mNameError\u001b[0m: name 'np' is not defined"
     ]
    }
   ],
   "source": [
    "hts3 = np.max(s3, axis=1)\n",
    "n3, edges3 = np.histogram(hts3, bins=400, range = (0,.01*np.max(hts)))\n",
    "    #Find first nonzero element, set as first channel to read --highly optional\n",
    "nz = np.nonzero(n)\n",
    "bins = edges3[1:]\n",
    "plt.plot(bins,n3)\n",
    "plt.loglog(bins,n3)"
   ]
  },
  {
   "cell_type": "code",
   "execution_count": 26,
   "metadata": {},
   "outputs": [
    {
     "data": {
      "text/plain": [
       "3694.728656083127"
      ]
     },
     "execution_count": 26,
     "metadata": {},
     "output_type": "execute_result"
    }
   ],
   "source": [
    "np.mean(s2)"
   ]
  },
  {
   "cell_type": "code",
   "execution_count": null,
   "metadata": {},
   "outputs": [
    {
     "name": "stdout",
     "output_type": "stream",
     "text": [
      "0 is r\n"
     ]
    }
   ],
   "source": [
    "from numba import jit\n",
    "@jit (parallel=True)\n",
    "\n",
    "def TrapFilter(v2_data, l, k, M):   \n",
    "    d2 = np.zeros_like(v2_data)\n",
    "    p2 = np.zeros_like(v2_data)\n",
    "    s2 = np.zeros_like(v2_data)\n",
    "    nstart2 = k+l+1\n",
    "    for n in range(nstart2,v2_data.shape[0]):\n",
    "        d2[:,n] = v2_data[:,n] -v2_data[:,n-k] - v2_data[:,n-l] +v2_data[:,n-k-l]\n",
    "        p2[:,n] = p2[:,n-1] +d2[:,n]\n",
    "        s2[:,n] = s2[:,n-1] +p2[:,n] +d2[:,n]*M\n",
    "    return s2\n",
    "###################################################\n",
    "\n",
    "#Create loop in which to encapsulate the system\n",
    "lvals = np.arange(200,1200,100)\n",
    "itmax = 1\n",
    "zoids = np.zeros((d1.shape[0],(d1.shape[1]+1000),itmax))\n",
    "reg = 25\n",
    "fit_values = np.zeros((itmax,3))\n",
    "fit_qual = np.zeros((3,3,itmax))\n",
    "vals = np.zeros((itmax,2*reg))\n",
    "\n",
    "for r in range(0,itmax):\n",
    "    #l is length of convolution function\n",
    "    l = lvals[r]\n",
    "    print(r, 'is r')\n",
    "    #Create loop\n",
    "    #k is rise time of trapezoid\n",
    "    #Set m; gap time\n",
    "    m = 30\n",
    "    #define k (which is the input I am using in this formulation)\n",
    "    k = l-m #2*l+1\n",
    "    #duration of flat top is m = l-k\n",
    "    #n is sample number, v(n) is the sample\n",
    "    #M is decay constant of sampled exp signal\n",
    "    pad2 = np.zeros((1000,d1.shape[0]))\n",
    "    #########################\n",
    "    #set up loop\n",
    "    #pulses = np.zeros((d1.shape[0],(d1.shape[1]+1000)))\n",
    "\n",
    "    #for y in range(0,100):\n",
    "    #Define data, perform baseline correction\n",
    "    v2 = d1[:,:]\n",
    "    offset = np.mean(v2[:,0:900])\n",
    "    v2_basecorr = v2-offset*np.ones_like(v2)\n",
    "\n",
    "    #Clip negatives --actually not needed\n",
    "    #v_basecorr = v_basecorr.clip(min=0)\n",
    "\n",
    "    #Pad data with zeros\n",
    "    v2_data = np.hstack((pad2.T,v2_basecorr))\n",
    "\n",
    "    #Determine value for M\n",
    "    #T = \n",
    "    #tau = mu\n",
    "    #M = 1/(np.exp((1/mu))-1)\n",
    "    M = (1/mu) + .5\n",
    "    #Loop through trap filter\n",
    "    s2 = TrapFilter(v2_data,k,l,M)\n",
    "    #Write trapezoids to zoids\n",
    "    #zoids[:,:,r] = s2\n",
    "\n",
    "\n",
    "    #Here's some plotting for debugging purposes\n",
    "    #fig, ax = plt.subplots()\n",
    "    #ax.plot(s[1500:5500])\n",
    "    #plt.show()\n",
    "\n",
    "\n",
    "    #Use numpy's max function to create list of pulse heights\n",
    "    #define slice of data to use\n",
    "    s3 = s2\n",
    "\n",
    "    hts = np.max(s3, axis=1)\n",
    "    n, edges = np.histogram(hts, bins=2000, range = (np.mean(hts),1.1*np.mean(hts)))\n",
    "    #plt.show()\n",
    "\n",
    "    #Find first nonzero element, set as first channel to read --highly optional\n",
    "    #nz = np.nonzero(n)\n",
    "    #plt.loglog(bins[nz[0][0]:bins.shape[0]-1],n[nz[0][0]:])\n",
    "    #plt.show()\n",
    "\n",
    "    #Find max, plot around it, automatically find FWHM\n",
    "    loc = np.argmax(n)\n",
    "\n",
    "    #Throw in some plotting for debugging purposes\n",
    "    #plt.plot(edges[1:],n)\n",
    "\n",
    "    #Create a fit to the data using code from the first lab\n",
    "    #define data range\n",
    "    x = edges[loc-reg:loc+reg] \n",
    "    y = n[loc-reg:loc+reg]\n",
    "\n",
    "    xtest= np.arange(0,2*reg,1)\n",
    "\n",
    "    ###xtest = arange\n",
    "    #plt.scatter(xtest,y)\n",
    "    h_guess = np.max(y)\n",
    "    popt, pcov = curve_fit(gaus, xtest, y, bounds=(0, [h_guess, 25, 15]))\n",
    "    fit_values[r,:] = popt\n",
    "    fit_qual[:,:,r] = pcov\n",
    "    \n",
    "    vals[r,:] = y\n",
    "    print(r)\n",
    "    \n",
    "    #Plot the fit and check\n",
    "    ytest = gaus(xtest,popt[0],popt[1],popt[2])\n",
    "    #plt.scatter(xtest,ytest)\n",
    "    \n",
    "plt.show()\n"
   ]
  },
  {
   "cell_type": "code",
   "execution_count": 16,
   "metadata": {},
   "outputs": [
    {
     "name": "stdout",
     "output_type": "stream",
     "text": [
      "[4.39693765e-01 4.39693765e-01 4.39693765e-01 4.39693765e-01\n",
      " 4.39693765e-01 1.21757760e-01 2.20655057e-04 2.20655057e-04\n",
      " 2.20655057e-04]\n"
     ]
    },
    {
     "data": {
      "text/plain": [
       "[<matplotlib.lines.Line2D at 0x7f71441d9f98>]"
      ]
     },
     "execution_count": 16,
     "metadata": {},
     "output_type": "execute_result"
    },
    {
     "data": {
      "image/png": "[encoded data removed]",
      "text/plain": [
       "<matplotlib.figure.Figure at 0x7f714b64f668>"
      ]
     },
     "metadata": {},
     "output_type": "display_data"
    }
   ],
   "source": [
    "#calculate FWHM\n",
    "ht = fit_values[:,0] \n",
    "wd = fit_values[:,2]\n",
    "FWHM = 2.35*wd/ht\n",
    "print(FWHM)\n",
    "plt.plot(FWHM)\n",
    "#200 300 400 500\n",
    "# [0.05112041,0.05115489,0.04511586,0.04842146,0.09118274,0.16070562,0.23522322]\n"
   ]
  },
  {
   "cell_type": "code",
   "execution_count": 29,
   "metadata": {},
   "outputs": [
    {
     "data": {
      "text/plain": [
       "array([ 0.        ,  0.        ,  0.        , 13.80165033,  0.        ,\n",
       "        0.        ,  0.        ,  0.        ,  0.        ])"
      ]
     },
     "execution_count": 29,
     "metadata": {},
     "output_type": "execute_result"
    }
   ],
   "source": [
    "wd"
   ]
  },
  {
   "cell_type": "code",
   "execution_count": 22,
   "metadata": {},
   "outputs": [
    {
     "data": {
      "text/plain": [
       "[<matplotlib.lines.Line2D at 0x7f0e61967278>]"
      ]
     },
     "execution_count": 22,
     "metadata": {},
     "output_type": "execute_result"
    },
    {
     "data": {
      "image/png": "[encoded data removed]",
      "text/plain": [
       "<matplotlib.figure.Figure at 0x7f0e63d84978>"
      ]
     },
     "metadata": {},
     "output_type": "display_data"
    }
   ],
   "source": [
    "\n",
    "#[0.08525841 0.05578018 0.05160413 0.05355871 0.08343804 0.14817189]\n",
    "#200 300 400 500 600 700 800 900 1000\n",
    "FWHM2 = np.array([8.52584082e-02, 5.57801777e-02, 0.05160413, 0.05355871, 0.08343804, 0.14817189, 0.23520664, 0.29291333, 0.34487316])\n",
    "\n",
    "plt.plot([0.05112041,0.05115489,0.04511586,0.04842146,0.09118274])"
   ]
  },
  {
   "cell_type": "code",
   "execution_count": 8,
   "metadata": {},
   "outputs": [
    {
     "data": {
      "text/plain": [
       "array([0.08525841, 0.05578018, 0.05160413])"
      ]
     },
     "execution_count": 8,
     "metadata": {},
     "output_type": "execute_result"
    }
   ],
   "source": [
    " d2 = np.zeros_like(v2_data)\n",
    "    p2 = np.zeros_like(v2_data)\n",
    "    s2 = np.zeros_like(v2_data)\n",
    "    nstart2 = k+l+1\n",
    "    for n in range(nstart2,v2_data.shape[0]):\n",
    "        d2[:,n] = v2_data[:,n] -v2_data[:,n-k] - v2_data[:,n-l] +v2_data[:,n-k-l]\n",
    "        p2[:,n] = p2[:,n-1] +d2[:,n]\n",
    "        s2[:,n] = s2[:,n-1] +p2[:,n] +d2[:,n]*M\n",
    "    zoids[:,:,r] = s2\n"
   ]
  },
  {
   "cell_type": "code",
   "execution_count": 37,
   "metadata": {},
   "outputs": [
    {
     "data": {
      "image/png": "[encoded data removed]",
      "text/plain": [
       "<matplotlib.figure.Figure at 0x7f8e81e3e940>"
      ]
     },
     "metadata": {},
     "output_type": "display_data"
    }
   ],
   "source": [
    "fig, ax = plt.subplots()\n",
    "for i in range(0,40):\n",
    "    ax.plot(s2[i,1500:5500])\n",
    "plt.show()"
   ]
  },
  {
   "cell_type": "code",
   "execution_count": 124,
   "metadata": {},
   "outputs": [
    {
     "data": {
      "text/plain": [
       "<matplotlib.collections.PathCollection at 0x7eff14ed3fd0>"
      ]
     },
     "execution_count": 124,
     "metadata": {},
     "output_type": "execute_result"
    },
    {
     "data": {
      "image/png": "[encoded data removed]",
      "text/plain": [
       "<matplotlib.figure.Figure at 0x7eff174e60b8>"
      ]
     },
     "metadata": {},
     "output_type": "display_data"
    }
   ],
   "source": [
    "#Use numpy's max function to create list of pulse heights\n",
    "hts = np.max(s2, axis=1)\n",
    "n, edges = np.histogram(hts, bins=2000, range = (np.mean(hts),1.1*np.mean(hts)))\n",
    "#plt.show()\n",
    "\n",
    "#Find first nonzero element, set as first channel to read --highly optional\n",
    "#nz = np.nonzero(n)\n",
    "#plt.loglog(bins[nz[0][0]:bins.shape[0]-1],n[nz[0][0]:])\n",
    "#plt.show()\n",
    "\n",
    "#Find max, plot around it, automatically find FWHM\n",
    "loc = np.argmax(n)\n",
    "reg = 25\n",
    "\n",
    "#Throw in some plotting for debugging purposes\n",
    "#plt.plot(edges[1:],n)\n",
    "\n",
    "#Create a fit to the data using code from the first lab\n",
    "from scipy.optimize import curve_fit\n",
    "#define data range\n",
    "x = edges[loc-reg:loc+reg] \n",
    "y = n[loc-reg:loc+reg]\n",
    "\n",
    "xtest= np.arange(0,2*reg,1)\n",
    "\n",
    "###xtest = arange\n",
    "plt.scatter(xtest,y)\n",
    "popt, pcov = curve_fit(gaus, xtest, y, bounds=(0, [2000., 25, 15]))\n",
    "\n",
    "#Plot the fit and check\n",
    "ytest = gaus(xtest,popt[0],popt[1],popt[2])\n",
    "plt.scatter(xtest,ytest)\n"
   ]
  },
  {
   "cell_type": "code",
   "execution_count": 123,
   "metadata": {},
   "outputs": [
    {
     "data": {
      "text/plain": [
       "<matplotlib.collections.PathCollection at 0x7eff14ef9c50>"
      ]
     },
     "execution_count": 123,
     "metadata": {},
     "output_type": "execute_result"
    },
    {
     "data": {
      "image/png": "[encoded data removed]",
      "text/plain": [
       "<matplotlib.figure.Figure at 0x7eff14f62748>"
      ]
     },
     "metadata": {},
     "output_type": "display_data"
    }
   ],
   "source": [
    "#Create a fit to the data using code from the first lab\n",
    "from scipy.optimize import curve_fit\n",
    "#define data range\n",
    "x = edges[loc-reg:loc+reg] \n",
    "y = n[loc-reg:loc+reg]\n",
    "\n",
    "xtest= np.arange(0,2*reg,1)\n",
    "\n",
    "###xtest = arange\n",
    "plt.scatter(xtest,y)\n",
    "popt, pcov = curve_fit(gaus, xtest, y, bounds=(0, [2000., 25, 15]))\n",
    "\n",
    "#Plot the fit and check\n",
    "ytest = gaus(xtest,popt[0],popt[1],popt[2])\n",
    "plt.scatter(xtest,ytest)\n"
   ]
  },
  {
   "cell_type": "code",
   "execution_count": null,
   "metadata": {},
   "outputs": [],
   "source": [
    "from numba import jit\n",
    "@jit (parallel=True)\n",
    "\n",
    "def TrapFilter(v2_data, l, k, M):   \n",
    "    d2 = np.zeros_like(v2_data)\n",
    "    p2 = np.zeros_like(v2_data)\n",
    "    s2 = np.zeros_like(v2_data)\n",
    "    nstart2 = k+l+1\n",
    "    for n in range(nstart2,v2_data.shape[0]):\n",
    "        d2[:,n] = v2_data[:,n] -v2_data[:,n-k] - v2_data[:,n-l] +v2_data[:,n-k-l]\n",
    "        p2[:,n] = p2[:,n-1] +d2[:,n]\n",
    "        s2[:,n] = s2[:,n-1] +p2[:,n] +d2[:,n]*M\n",
    "    return s2\n",
    "###################################################\n",
    "\n",
    "#Create loop in which to encapsulate the system\n",
    "lvals = np.arange(500,1200,100)\n",
    "itmax = 4\n",
    "zoids = np.zeros((d1.shape[0],(d1.shape[1]+1000),itmax))\n",
    "reg = 25\n",
    "fit_values = np.zeros((itmax,3))\n",
    "fit_qual = np.zeros((3,3,itmax))\n",
    "vals = np.zeros((itmax,2*reg))\n",
    "\n",
    "for r in range(0,itmax):\n",
    "    #l is length of convolution function\n",
    "    l = lvals[r]\n",
    "    print(r, 'is r')\n",
    "    #Create loop\n",
    "    #k is rise time of trapezoid\n",
    "    #Set m; gap time\n",
    "    m = 10\n",
    "    #define k (which is the input I am using in this formulation)\n",
    "    k = l-m #2*l+1\n",
    "    #duration of flat top is m = l-k\n",
    "    #n is sample number, v(n) is the sample\n",
    "    #M is decay constant of sampled exp signal\n",
    "    pad2 = np.zeros((1000,d1.shape[0]))\n",
    "    #########################\n",
    "    #set up loop\n",
    "    #pulses = np.zeros((d1.shape[0],(d1.shape[1]+1000)))\n",
    "\n",
    "    #for y in range(0,100):\n",
    "    #Define data, perform baseline correction\n",
    "    v2 = d1[:,:]\n",
    "    offset = np.mean(v2[:,0:900])\n",
    "    v2_basecorr = v2-offset*np.ones_like(v2)\n",
    "\n",
    "    #Clip negatives --actually not needed\n",
    "    #v_basecorr = v_basecorr.clip(min=0)\n",
    "\n",
    "    #Pad data with zeros\n",
    "    v2_data = np.hstack((pad2.T,v2_basecorr))\n",
    "\n",
    "    #Determine value for M\n",
    "    #T = \n",
    "    #tau = mu\n",
    "    #M = 1/(np.exp((1/mu))-1)\n",
    "    M = (1/mu) + .5\n",
    "    #Loop through trap filter\n",
    "    s2 = TrapFilter(v2_data,k,l,M)\n",
    "    #Write trapezoids to zoids\n",
    "    zoids[:,:,r] = s2\n",
    "\n",
    "#ZOIDS now contains all of the trapezoids needed to make the spectra. Now set up separate loop to find,\n",
    "#fit and evaluate peaks\n",
    "\n",
    "#Here's some plotting for debugging purposes\n",
    "#fig, ax = plt.subplots()\n",
    "#ax.plot(s[1500:5500])\n",
    "#plt.show()\n",
    "\n",
    "\n",
    "########Loop for finding and fitting##########################################\n",
    "#Use numpy's max function to create list of pulse heights\n",
    "\n",
    "#initialize array to hold fit data\n",
    "reg = 25\n",
    "fit_values = np.zeros((itmax,3))\n",
    "fit_qual = np.zeros((3,3,itmax))\n",
    "vals = np.zeros((itmax,2*reg))\n",
    "\n",
    "\n",
    "    #define slice of data to use\n",
    "    s3 = zoids[:,:,u]\n",
    "\n",
    "    hts = np.max(s3, axis=1)\n",
    "    n, edges = np.histogram(hts, bins=2000, range = (np.mean(hts),1.1*np.mean(hts)))\n",
    "    #plt.show()\n",
    "\n",
    "    #Find first nonzero element, set as first channel to read --highly optional\n",
    "    #nz = np.nonzero(n)\n",
    "    #plt.loglog(bins[nz[0][0]:bins.shape[0]-1],n[nz[0][0]:])\n",
    "    #plt.show()\n",
    "\n",
    "    #Find max, plot around it, automatically find FWHM\n",
    "    loc = np.argmax(n)\n",
    "\n",
    "    #Throw in some plotting for debugging purposes\n",
    "    #plt.plot(edges[1:],n)\n",
    "\n",
    "    #Create a fit to the data using code from the first lab\n",
    "    #define data range\n",
    "    x = edges[loc-reg:loc+reg] \n",
    "    y = n[loc-reg:loc+reg]\n",
    "\n",
    "    xtest= np.arange(0,2*reg,1)\n",
    "\n",
    "    ###xtest = arange\n",
    "    #plt.scatter(xtest,y)\n",
    "    h_guess = np.max(y)\n",
    "    popt, pcov = curve_fit(gaus, xtest, y, bounds=(0, [h_guess, 25, 15]))\n",
    "    fit_values[u,:] = popt\n",
    "    fit_qual[:,:,u] = pcov\n",
    "    \n",
    "    vals[u,:] = y\n",
    "    print(u)\n",
    "    \n",
    "    #Plot the fit and check\n",
    "    ytest = gaus(xtest,popt[0],popt[1],popt[2])\n",
    "    #plt.scatter(xtest,ytest)\n",
    "    \n",
    "plt.show()\n"
   ]
  },
  {
   "cell_type": "code",
   "execution_count": null,
   "metadata": {},
   "outputs": [],
   "source": []
  },
  {
   "cell_type": "code",
   "execution_count": null,
   "metadata": {},
   "outputs": [],
   "source": []
  },
  {
   "cell_type": "code",
   "execution_count": null,
   "metadata": {},
   "outputs": [],
   "source": []
  },
  {
   "cell_type": "code",
   "execution_count": 58,
   "metadata": {},
   "outputs": [
    {
     "data": {
      "text/plain": [
       "array([[ 4.11396361e+01, -2.30722004e-08, -3.53016563e-02],\n",
       "       [-2.30722004e-08,  9.08760780e-05,  6.66976136e-11],\n",
       "       [-3.53016563e-02,  6.66976136e-11,  9.08762513e-05]])"
      ]
     },
     "execution_count": 58,
     "metadata": {},
     "output_type": "execute_result"
    }
   ],
   "source": [
    "pcov"
   ]
  },
  {
   "cell_type": "code",
   "execution_count": 54,
   "metadata": {},
   "outputs": [
    {
     "data": {
      "text/plain": [
       "array([0.00000000e+000, 0.00000000e+000, 0.00000000e+000, 0.00000000e+000,\n",
       "       0.00000000e+000, 0.00000000e+000, 0.00000000e+000, 1.66361910e-290,\n",
       "       2.14272421e-194, 1.65537824e-117, 7.67090843e-060, 2.13213619e-021,\n",
       "       3.55468953e-002, 3.55473308e-002, 2.13221456e-021, 7.67137833e-060,\n",
       "       1.65552021e-117, 2.14296047e-194, 1.66384330e-290, 0.00000000e+000,\n",
       "       0.00000000e+000, 0.00000000e+000, 0.00000000e+000, 0.00000000e+000,\n",
       "       0.00000000e+000, 0.00000000e+000, 0.00000000e+000, 0.00000000e+000,\n",
       "       0.00000000e+000, 0.00000000e+000, 0.00000000e+000, 0.00000000e+000,\n",
       "       0.00000000e+000, 0.00000000e+000, 0.00000000e+000, 0.00000000e+000,\n",
       "       0.00000000e+000, 0.00000000e+000, 0.00000000e+000, 0.00000000e+000,\n",
       "       0.00000000e+000, 0.00000000e+000, 0.00000000e+000, 0.00000000e+000,\n",
       "       0.00000000e+000, 0.00000000e+000, 0.00000000e+000, 0.00000000e+000,\n",
       "       0.00000000e+000, 0.00000000e+000])"
      ]
     },
     "execution_count": 54,
     "metadata": {},
     "output_type": "execute_result"
    }
   ],
   "source": [
    "ytest"
   ]
  },
  {
   "cell_type": "code",
   "execution_count": 116,
   "metadata": {},
   "outputs": [],
   "source": [
    "#l is length of convolution function\n",
    "l = 600\n",
    "#k is rise time of trapezoid\n",
    "k = 400 #2*l+1\n",
    "#duration of flat top is m = l-k\n",
    "#n is sample number, v(n) is the sample\n",
    "#M is decay constant of sampled exp signal\n",
    "pad = np.zeros((1000))\n",
    "#########################\n",
    "#set up loop\n",
    "pulses = np.zeros((d1.shape[0],(d1.shape[1]+1000)))\n",
    "\n",
    "for y in range(0,100):\n",
    "    #Define data, perform baseline correction\n",
    "    v = d1[y,:]\n",
    "    offset = np.mean(d1[y,0:900])\n",
    "    v_basecorr = v-offset*np.ones_like(v)\n",
    "\n",
    "    #Clip negatives --actually not needed\n",
    "    #v_basecorr = v_basecorr.clip(min=0)\n",
    "\n",
    "    #Pad data with zeros\n",
    "    v_data = np.hstack((pad,v_basecorr))\n",
    "\n",
    "    #Determine value for M\n",
    "    #T = \n",
    "    #tau = mu\n",
    "    #M = 1/(np.exp((1/mu))-1)\n",
    "    M = (1/mu) + .5\n",
    "    #Loop through trap filter\n",
    "    d = np.zeros_like(v_data)\n",
    "    p = np.zeros_like(v_data)\n",
    "    s = np.zeros_like(v_data)\n",
    "    nstart = k+l+1\n",
    "    for n in range(nstart,v_data.shape[0]):\n",
    "        d[n] = v_data[n] -v_data[n-k] - v_data[n-l] +v_data[n-k-l]\n",
    "        p[n] = p[n-1] +d[n]\n",
    "        s[n] = s[n-1] +p[n] +d[n]*M\n",
    "    pulses[y,:] = s\n",
    "\n",
    "\n",
    "#p(n) = p(n-1) + v(n) -v(n-l)\n",
    "#all together now\n",
    "#initiate p,dkl and s as all zeros\n",
    "#\n",
    "#fig, ax = plt.subplots()\n",
    "#ax.plot(s[1500:5500])\n",
    "#plt.show()"
   ]
  },
  {
   "cell_type": "code",
   "execution_count": 47,
   "metadata": {},
   "outputs": [
    {
     "data": {
      "text/plain": [
       "(50,)"
      ]
     },
     "execution_count": 47,
     "metadata": {},
     "output_type": "execute_result"
    }
   ],
   "source": [
    "xtest.shape"
   ]
  },
  {
   "cell_type": "code",
   "execution_count": 29,
   "metadata": {},
   "outputs": [
    {
     "data": {
      "text/plain": [
       "array([77.96423441, 77.94925213, 77.93426926, 77.9192858 , 77.90430174,\n",
       "       77.88931709, 77.87433186, 77.85934603, 77.84435962, 77.82937263,\n",
       "       77.81438505, 77.7993969 , 77.78440816, 77.76941884, 77.75442895,\n",
       "       77.73943848, 77.72444743, 77.70945581, 77.69446362, 77.67947086,\n",
       "       77.66447754, 77.64948364, 77.63448918, 77.61949416, 77.60449857,\n",
       "       77.58950242, 77.57450571, 77.55950844, 77.54451062, 77.52951224,\n",
       "       77.5145133 , 77.49951382, 77.48451378, 77.46951319, 77.45451205,\n",
       "       77.43951037, 77.42450814, 77.40950537, 77.39450205, 77.3794982 ,\n",
       "       77.3644938 , 77.34948887, 77.33448339, 77.31947739, 77.30447085,\n",
       "       77.28946377, 77.27445617, 77.25944803, 77.24443937, 77.22943018])"
      ]
     },
     "execution_count": 29,
     "metadata": {},
     "output_type": "execute_result"
    }
   ],
   "source": [
    "gaus(x, popt[0],popt[1],popt[2])"
   ]
  },
  {
   "cell_type": "code",
   "execution_count": 24,
   "metadata": {},
   "outputs": [
    {
     "data": {
      "text/plain": [
       "array([1.82096e+09, 1.82134e+09, 1.82172e+09, 1.82210e+09, 1.82248e+09,\n",
       "       1.82286e+09, 1.82324e+09, 1.82362e+09, 1.82400e+09, 1.82438e+09,\n",
       "       1.82476e+09, 1.82514e+09, 1.82552e+09, 1.82590e+09, 1.82628e+09,\n",
       "       1.82666e+09, 1.82704e+09, 1.82742e+09, 1.82780e+09, 1.82818e+09,\n",
       "       1.82856e+09, 1.82894e+09, 1.82932e+09, 1.82970e+09, 1.83008e+09,\n",
       "       1.83046e+09, 1.83084e+09, 1.83122e+09, 1.83160e+09, 1.83198e+09,\n",
       "       1.83236e+09, 1.83274e+09, 1.83312e+09, 1.83350e+09, 1.83388e+09,\n",
       "       1.83426e+09, 1.83464e+09, 1.83502e+09, 1.83540e+09, 1.83578e+09,\n",
       "       1.83616e+09, 1.83654e+09, 1.83692e+09, 1.83730e+09, 1.83768e+09,\n",
       "       1.83806e+09, 1.83844e+09, 1.83882e+09, 1.83920e+09, 1.83958e+09])"
      ]
     },
     "execution_count": 24,
     "metadata": {},
     "output_type": "execute_result"
    }
   ],
   "source": [
    "x"
   ]
  },
  {
   "cell_type": "code",
   "execution_count": 38,
   "metadata": {},
   "outputs": [],
   "source": [
    "qq = np.hstack((pad2.T,v2_basecorr))"
   ]
  },
  {
   "cell_type": "code",
   "execution_count": 39,
   "metadata": {},
   "outputs": [
    {
     "data": {
      "text/plain": [
       "(4616, 17384)"
      ]
     },
     "execution_count": 39,
     "metadata": {},
     "output_type": "execute_result"
    }
   ],
   "source": [
    "qq.shape"
   ]
  },
  {
   "cell_type": "code",
   "execution_count": 40,
   "metadata": {},
   "outputs": [
    {
     "data": {
      "text/plain": [
       "array([ 0.        ,  0.        ,  0.        , ..., 41.01890141,\n",
       "       41.01890141, 39.01890141])"
      ]
     },
     "execution_count": 40,
     "metadata": {},
     "output_type": "execute_result"
    }
   ],
   "source": [
    "qq[1,:]"
   ]
  },
  {
   "cell_type": "code",
   "execution_count": null,
   "metadata": {},
   "outputs": [],
   "source": []
  }
 ],
 "metadata": {
  "kernelspec": {
   "display_name": "Python 3",
   "language": "python",
   "name": "python3"
  },
  "language_info": {
   "codemirror_mode": {
    "name": "ipython",
    "version": 3
   },
   "file_extension": ".py",
   "mimetype": "text/x-python",
   "name": "python",
   "nbconvert_exporter": "python",
   "pygments_lexer": "ipython3",
   "version": "3.6.4"
  }
 },
 "nbformat": 4,
 "nbformat_minor": 2
}
